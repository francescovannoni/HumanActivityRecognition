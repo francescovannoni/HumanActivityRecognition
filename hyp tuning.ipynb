{
 "cells": [
  {
   "cell_type": "markdown",
   "metadata": {},
   "source": [
    "# Hyperparameters Tuning"
   ]
  },
  {
   "cell_type": "code",
   "execution_count": 5,
   "metadata": {},
   "outputs": [],
   "source": [
    "import numpy as np\n",
    "import pandas as pd"
   ]
  },
  {
   "cell_type": "code",
   "execution_count": 6,
   "metadata": {},
   "outputs": [],
   "source": [
    "train = pd.read_csv('/home/frenk/Documenti/Artificial Intelligence/UCI_HAR_Dataset/train.csv')\n",
    "test = pd.read_csv('/home/frenk/Documenti/Artificial Intelligence/UCI_HAR_Dataset/test.csv')"
   ]
  },
  {
   "cell_type": "code",
   "execution_count": 7,
   "metadata": {},
   "outputs": [],
   "source": [
    "X_train = train.drop(['subject', 'Activity', 'ActivityName'], axis=1)\n",
    "y_train = train.ActivityName"
   ]
  },
  {
   "cell_type": "code",
   "execution_count": 8,
   "metadata": {},
   "outputs": [],
   "source": [
    "X_test = test.drop(['subject', 'Activity', 'ActivityName'], axis=1)\n",
    "y_test = test.ActivityName"
   ]
  },
  {
   "cell_type": "code",
   "execution_count": 5,
   "metadata": {},
   "outputs": [],
   "source": [
    "labels=['LAYING', 'SITTING','STANDING','WALKING','WALKING_DOWNSTAIRS','WALKING_UPSTAIRS']"
   ]
  },
  {
   "cell_type": "code",
   "execution_count": 6,
   "metadata": {},
   "outputs": [],
   "source": [
    "from sklearn import metrics\n",
    "from sklearn.tree import DecisionTreeClassifier\n",
    "import matplotlib.pyplot as plt\n",
    "\n",
    "dt = DecisionTreeClassifier()"
   ]
  },
  {
   "cell_type": "markdown",
   "metadata": {},
   "source": [
    "Analyzing best value for min_samples_leaf"
   ]
  },
  {
   "cell_type": "code",
   "execution_count": 7,
   "metadata": {},
   "outputs": [],
   "source": [
    "accuracy_res = [0]*10\n",
    "for j in range (0,10):\n",
    "    for i in range (0,10):\n",
    "        dt = DecisionTreeClassifier(min_samples_leaf = i+1)\n",
    "        dt.fit(X_train, y_train)\n",
    "        y_pred = dt.predict(X_test)\n",
    "        accuracy_res[i] += metrics.accuracy_score(y_test, y_pred)"
   ]
  },
  {
   "cell_type": "code",
   "execution_count": 8,
   "metadata": {},
   "outputs": [
    {
     "name": "stdout",
     "output_type": "stream",
     "text": [
      "[0.8575500508992195, 0.8607736681370886, 0.8654903291482864, 0.8696640651510009, 0.8730912792670512, 0.8749915167967425, 0.8696301323379709, 0.8723447573803866, 0.8716321683067527, 0.8731252120800816]\n",
      "Max Accuracy:  0.8749915167967425 obtained with min_samples_leaf =  6\n"
     ]
    }
   ],
   "source": [
    "for i in range (0,10):\n",
    "    accuracy_res[i] = accuracy_res[i]/10\n",
    "print (accuracy_res)\n",
    "max_accuracy = max(accuracy_res)\n",
    "max_index = accuracy_res.index(max_accuracy)\n",
    "print('Max Accuracy: ', max_accuracy, 'obtained with min_samples_leaf = ', max_index+1)"
   ]
  },
  {
   "cell_type": "markdown",
   "metadata": {},
   "source": [
    "Doing the same thing for max_depth starting from 4 to 13 as values for max depth"
   ]
  },
  {
   "cell_type": "code",
   "execution_count": 9,
   "metadata": {},
   "outputs": [],
   "source": [
    "accuracy_md = [0]*10\n",
    "for j in range (0,10):\n",
    "    for i in range (0,10):\n",
    "        dt = DecisionTreeClassifier(max_depth = i+4)\n",
    "        dt.fit(X_train, y_train)\n",
    "        y_pred = dt.predict(X_test)\n",
    "        accuracy_md[i] += metrics.accuracy_score(y_test, y_pred)"
   ]
  },
  {
   "cell_type": "code",
   "execution_count": 11,
   "metadata": {},
   "outputs": [
    {
     "name": "stdout",
     "output_type": "stream",
     "text": [
      "[0.0809636918900577, 0.08388870037326095, 0.08547336274177128, 0.08640990838140483, 0.0872718018323719, 0.08731591448931117, 0.08668137088564641, 0.08667797760434341, 0.0864234815066169, 0.08625381744146589]\n",
      "Max Accuracy:  0.8749915167967425 obtained with max_depth =  9\n"
     ]
    }
   ],
   "source": [
    "for i in range (0,10):\n",
    "    accuracy_md[i] = accuracy_md[i]/10\n",
    "print (accuracy_md)\n",
    "max_accuracy_md = max(accuracy_md)\n",
    "max_index = accuracy_md.index(max_accuracy_md)\n",
    "print('Max Accuracy: ', max_accuracy, 'obtained with max_depth = ', max_index+4)"
   ]
  },
  {
   "cell_type": "markdown",
   "metadata": {},
   "source": [
    "Comparing entropy and gini"
   ]
  },
  {
   "cell_type": "code",
   "execution_count": 12,
   "metadata": {},
   "outputs": [],
   "source": [
    "accuracy_res_t = [0]*2\n",
    "for i in range (0,10):\n",
    "    dte = DecisionTreeClassifier(criterion = 'entropy')\n",
    "    dtg = DecisionTreeClassifier(criterion = 'gini')\n",
    "    dte.fit(X_train, y_train)\n",
    "    dtg.fit(X_train, y_train)\n",
    "    y_pred_e = dte.predict(X_test)\n",
    "    y_pred_g = dtg.predict(X_test)\n",
    "    accuracy_res_t[0] += metrics.accuracy_score(y_test, y_pred_e)\n",
    "    accuracy_res_t[1] += metrics.accuracy_score(y_test, y_pred_g)"
   ]
  },
  {
   "cell_type": "code",
   "execution_count": 15,
   "metadata": {},
   "outputs": [
    {
     "name": "stdout",
     "output_type": "stream",
     "text": [
      "[0.8546657617916524, 0.859653885307092]\n",
      "Max Accuracy:  0.8749915167967425 obtained in case =  1\n",
      "\n",
      " 0 stands for entropy, 1 for gini\n"
     ]
    }
   ],
   "source": [
    "for i in range (0,2):\n",
    "    accuracy_res_t[i] = accuracy_res_t[i]/10\n",
    "print (accuracy_res_t)\n",
    "max_accuracy_res_t = max(accuracy_res_t)\n",
    "max_index = accuracy_res_t.index(max_accuracy_res_t)\n",
    "print('Max Accuracy: ', max_accuracy, 'obtained in case = ', max_index)\n",
    "print('\\n 0 stands for entropy, 1 for gini')"
   ]
  },
  {
   "cell_type": "markdown",
   "metadata": {},
   "source": [
    "Testing all together"
   ]
  },
  {
   "cell_type": "code",
   "execution_count": 16,
   "metadata": {},
   "outputs": [
    {
     "name": "stdout",
     "output_type": "stream",
     "text": [
      "Accuracy:  0.8771632168306752\n"
     ]
    }
   ],
   "source": [
    "dt = DecisionTreeClassifier(criterion = 'gini', min_samples_leaf = 6, max_depth = 9)\n",
    "dt.fit(X_train,y_train)\n",
    "y_pred = dt.predict(X_test)\n",
    "accuracy = metrics.accuracy_score(y_test, y_pred)\n",
    "print('Accuracy: ', accuracy)"
   ]
  },
  {
   "cell_type": "markdown",
   "metadata": {},
   "source": [
    "## GridSearch CV"
   ]
  },
  {
   "cell_type": "code",
   "execution_count": 20,
   "metadata": {},
   "outputs": [
    {
     "data": {
      "text/plain": [
       "GridSearchCV(cv=None, error_score=nan,\n",
       "             estimator=DecisionTreeClassifier(ccp_alpha=0.0, class_weight=None,\n",
       "                                              criterion='gini', max_depth=None,\n",
       "                                              max_features=None,\n",
       "                                              max_leaf_nodes=None,\n",
       "                                              min_impurity_decrease=0.0,\n",
       "                                              min_impurity_split=None,\n",
       "                                              min_samples_leaf=1,\n",
       "                                              min_samples_split=2,\n",
       "                                              min_weight_fraction_leaf=0.0,\n",
       "                                              presort='deprecated',\n",
       "                                              random_state=None,\n",
       "                                              splitter='best'),\n",
       "             iid='deprecated', n_jobs=None,\n",
       "             param_grid={'criterion': ['gini', 'entropy'],\n",
       "                         'max_depth': array([ 4,  5,  6,  7,  8,  9, 10, 11, 12, 13, 14, 15, 16, 17, 18, 19]),\n",
       "                         'min_samples_leaf': array([2, 3, 4, 5, 6, 7, 8, 9]),\n",
       "                         'min_samples_split': array([2, 3, 4, 5, 6, 7, 8, 9])},\n",
       "             pre_dispatch='2*n_jobs', refit=True, return_train_score=False,\n",
       "             scoring=None, verbose=0)"
      ]
     },
     "execution_count": 20,
     "metadata": {},
     "output_type": "execute_result"
    }
   ],
   "source": [
    "from sklearn.model_selection import GridSearchCV\n",
    "from scipy.stats import randint\n",
    "from sklearn.tree import DecisionTreeClassifier\n",
    "depths = np.arange(4, 20, 1)\n",
    "samples= np.arange(2, 10, 1)\n",
    "parameters = {'criterion':['gini', 'entropy'], 'max_depth': depths,  'min_samples_leaf':samples, 'min_samples_split':samples}\n",
    "dt = DecisionTreeClassifier()\n",
    "dt_grid = GridSearchCV(dt,param_grid=parameters)\n",
    "dt_grid.fit(X_train, y_train)"
   ]
  },
  {
   "cell_type": "code",
   "execution_count": 21,
   "metadata": {},
   "outputs": [
    {
     "name": "stdout",
     "output_type": "stream",
     "text": [
      "Tuned Decision Tree Parameters: {'criterion': 'entropy', 'max_depth': 16, 'min_samples_leaf': 6, 'min_samples_split': 7}\n",
      "Best Score is 0.8722822643673377\n"
     ]
    }
   ],
   "source": [
    "print(\"Tuned Decision Tree Parameters: {}\".format(dt_grid.best_params_))\n",
    "print(\"Best Score is {}\".format(dt_grid.best_score_))"
   ]
  },
  {
   "cell_type": "code",
   "execution_count": null,
   "metadata": {},
   "outputs": [],
   "source": []
  }
 ],
 "metadata": {
  "kernelspec": {
   "display_name": "Python 3",
   "language": "python",
   "name": "python3"
  },
  "language_info": {
   "codemirror_mode": {
    "name": "ipython",
    "version": 3
   },
   "file_extension": ".py",
   "mimetype": "text/x-python",
   "name": "python",
   "nbconvert_exporter": "python",
   "pygments_lexer": "ipython3",
   "version": "3.7.6"
  }
 },
 "nbformat": 4,
 "nbformat_minor": 4
}
